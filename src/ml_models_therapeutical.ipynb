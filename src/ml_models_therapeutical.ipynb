{
 "cells": [
  {
   "cell_type": "code",
   "execution_count": 1,
   "metadata": {
    "id": "7grfOm5n-FED"
   },
   "outputs": [],
   "source": [
    "import os\n",
    "import pandas as pd\n",
    "import numpy as np\n",
    "import matplotlib.pyplot as plt\n",
    "\n",
    "import seaborn as sns\n",
    "\n",
    "from sklearn.model_selection import train_test_split, cross_val_score\n",
    "from sklearn.pipeline import Pipeline\n",
    "from sklearn.compose import ColumnTransformer\n",
    "from sklearn.preprocessing import StandardScaler, OneHotEncoder\n",
    "from sklearn.impute import SimpleImputer\n",
    "from sklearn.linear_model import LinearRegression, Lasso, ElasticNet\n",
    "from sklearn.ensemble import RandomForestRegressor, GradientBoostingRegressor\n",
    "\n",
    "\n",
    "from pathlib import Path\n",
    "from typing import Tuple"
   ]
  },
  {
   "cell_type": "code",
   "execution_count": 2,
   "metadata": {
    "id": "dti-oEj4-FEE"
   },
   "outputs": [],
   "source": [
    "def _CYME(df: pd.DataFrame) -> float:\n",
    "    \"\"\" Compute the CYME metric, that is 1/2(median(yearly error) + median(monthly error))\"\"\"\n",
    "\n",
    "    yearly_agg = df.groupby(\"cluster_nl\")[[\"target\", \"prediction\"]].sum().reset_index()\n",
    "    yearly_error = abs((yearly_agg[\"target\"] - yearly_agg[\"prediction\"])/yearly_agg[\"target\"]).median()\n",
    "\n",
    "    monthly_error = abs((df[\"target\"] - df[\"prediction\"])/df[\"target\"]).median()\n",
    "\n",
    "    return 1/2*(yearly_error + monthly_error)\n",
    "\n",
    "\n",
    "def _metric(df: pd.DataFrame) -> float:\n",
    "    \"\"\"Compute metric of submission.\n",
    "\n",
    "    :param df: Dataframe with target and 'prediction', and identifiers.\n",
    "    :return: Performance metric\n",
    "    \"\"\"\n",
    "    df = df.copy()\n",
    "    df[\"date\"] = pd.to_datetime(df[\"date\"])\n",
    "\n",
    "    # Split 0 actuals - rest\n",
    "    zeros = df[df[\"zero_actuals\"] == 1]\n",
    "    recent = df[df[\"zero_actuals\"] == 0]\n",
    "\n",
    "    # weight for each group\n",
    "    zeros_weight = len(zeros)/len(df)\n",
    "    recent_weight = 1 - zeros_weight\n",
    "\n",
    "    # Compute CYME for each group\n",
    "    return round(recent_weight*_CYME(recent) + zeros_weight*min(1,_CYME(zeros)),8)\n",
    "\n",
    "\n",
    "def compute_metric(submission: pd.DataFrame) -> Tuple[float, float]:\n",
    "    \"\"\"Compute metric.\n",
    "\n",
    "    :param submission: Prediction. Requires columns: ['cluster_nl', 'date', 'target', 'prediction']\n",
    "    :return: Performance metric.\n",
    "    \"\"\"\n",
    "\n",
    "    submission[\"date\"] = pd.to_datetime(submission[\"date\"])\n",
    "    submission = submission[['cluster_nl', 'date', 'target', 'prediction', 'zero_actuals']]\n",
    "\n",
    "    return _metric(submission)"
   ]
  },
  {
   "cell_type": "code",
   "execution_count": 4,
   "metadata": {
    "colab": {
     "base_uri": "https://localhost:8080/"
    },
    "id": "oe_t9NsS-FEF",
    "outputId": "bde6fe67-6ce2-4dd9-9016-01a9e404402a"
   },
   "outputs": [
    {
     "name": "stdout",
     "output_type": "stream",
     "text": [
      "['subset_032C.csv', 'subset_22ED.csv', 'subset_CD59.csv', 'subset_4BA5.csv', 'subset_645F.csv', 'subset_8E53.csv', 'subset_644A.csv', 'subset_66C5.csv', 'subset_96D7.csv', 'subset_6CEE.csv', 'subset_051D.csv', 'subset_980E.csv']\n",
      "Data loaded for therapeutic area 032C\n",
      "Data loaded for therapeutic area 22ED\n",
      "Data loaded for therapeutic area CD59\n",
      "Data loaded for therapeutic area 4BA5\n",
      "Data loaded for therapeutic area 645F\n",
      "Data loaded for therapeutic area 8E53\n",
      "Data loaded for therapeutic area 644A\n",
      "Data loaded for therapeutic area 66C5\n",
      "Data loaded for therapeutic area 96D7\n",
      "Data loaded for therapeutic area 6CEE\n",
      "Data loaded for therapeutic area 051D\n",
      "Data loaded for therapeutic area 980E\n"
     ]
    }
   ],
   "source": [
    "# Define file paths\n",
    "\n",
    "features_cols = [\n",
    "    \"brand\",\n",
    "    \"che_pc_usd\",\n",
    "    \"che_perc_gdp\",\n",
    "    \"corporation\",\n",
    "    \"country\",\n",
    "    \"launch_date\",\n",
    "    \"drug_id\",\n",
    "    \"ind_launch_date\",\n",
    "    \"indication\",\n",
    "    \"insurance_perc_che\",\n",
    "    \"population\",\n",
    "    \"prev_perc\",\n",
    "    \"price_month\",\n",
    "    \"price_unit\",\n",
    "    \"public_perc_che\",\n",
    "    \"therapeutic_area\",\n",
    "    \"Country_Group\",\n",
    "    \"Price_Group\",\n",
    "    \"indication_number\"\n",
    "]\n",
    "target_col = \"target\"\n",
    "id_col = [\"date\",\"cluster_nl\"]\n",
    "\n",
    "base_dir = os.path.join(os.path.dirname(os.getcwd()), \"dataset\")\n",
    "therap = os.path.join(os.path.dirname(os.getcwd()), \"dataset\", \"therapeutic_area\")\n",
    "# Load datasets\n",
    "# data = pd.read_csv(f\"{base_dir}/train_data.csv\", usecols=features_cols + [target_col] + id_col)\n",
    "data = {}\n",
    "y = {}\n",
    "therapeutic_areas = os.listdir(therap)\n",
    "extracted_parts = [name.split('_')[1].split('.')[0] for name in therapeutic_areas]\n",
    "print(therapeutic_areas)\n",
    "\n",
    "for i in extracted_parts:\n",
    "    data[i] = pd.read_csv(f\"{therap}/subset_{i}.csv\", usecols=features_cols + [target_col] + id_col)\n",
    "    print(f\"Data loaded for therapeutic area {i}\")\n",
    "    y[i] = data[i][target_col]\n",
    "\n",
    "test_data = pd.read_csv(f\"{base_dir}/submission_data_added.csv\", usecols=features_cols + id_col)\n",
    "\n"
   ]
  },
  {
   "cell_type": "code",
   "execution_count": 5,
   "metadata": {
    "id": "w3TaoaTS-FEH"
   },
   "outputs": [],
   "source": [
    "numeric_features = {}\n",
    "categorical_features = {}\n",
    "for i in extracted_parts:\n",
    "    # convert int64 to float64\n",
    "    data[i] = data[i].astype({\"Country_Group\": \"float64\"})\n",
    "    data[i] = data[i].astype({\"Price_Group\": \"float64\"})\n",
    "    data[i] = data[i].astype({\"indication_number\": \"float64\"})\n",
    "    numeric_features[i] = data[i].select_dtypes(include=['float64']).drop(columns=[target_col], errors='ignore').columns\n",
    "    categorical_features[i] = data[i].select_dtypes(include=['object']).columns\n",
    "\n",
    "test_data = test_data.astype({\"Country_Group\": \"float64\"})\n",
    "test_data = test_data.astype({\"Price_Group\": \"float64\"})\n",
    "test_data = test_data.astype({\"indication_number\": \"float64\"})\n",
    "\n",
    "# Separate numeric and categorical features for imputation\n"
   ]
  },
  {
   "cell_type": "code",
   "execution_count": 6,
   "metadata": {
    "id": "usmMQdjP-FEH"
   },
   "outputs": [],
   "source": [
    "X = {}\n",
    "for i in extracted_parts:\n",
    "    # Drop unnecessary columns\n",
    "    X[i] = data[i].drop(columns=[target_col]+[\"cluster_nl\"])\n",
    "\n",
    "X_test = test_data.drop(columns=[\"cluster_nl\"])\n",
    "\n",
    "# Preprocessing pipeline\n",
    "def preprocess_data(X, preprocessor=None, fit=True):\n",
    "    numerical_features = X.select_dtypes(include=['float64']).columns\n",
    "    categorical_features = X.select_dtypes(include=['category']).columns\n",
    "\n",
    "    if preprocessor is None:\n",
    "        numerical_transformer = Pipeline(steps=[\n",
    "            ('imputer', SimpleImputer(strategy='median')),\n",
    "            ('scaler', StandardScaler())\n",
    "        ])\n",
    "        categorical_transformer = Pipeline(steps=[\n",
    "            ('imputer', SimpleImputer(strategy='most_frequent')),\n",
    "            ('onehot', OneHotEncoder(handle_unknown='ignore', sparse_output=False))\n",
    "        ])\n",
    "\n",
    "        preprocessor = ColumnTransformer(\n",
    "            transformers=[\n",
    "                ('num', numerical_transformer, numerical_features),\n",
    "                ('cat', categorical_transformer, categorical_features)\n",
    "            ]\n",
    "        )\n",
    "\n",
    "    if fit:\n",
    "        X_transformed = preprocessor.fit_transform(X)\n",
    "    else:\n",
    "        X_transformed = preprocessor.transform(X)\n",
    "\n",
    "    X_transformed = np.array(X_transformed)\n",
    "\n",
    "    return X_transformed, preprocessor\n",
    "\n",
    "# Preprocess data\n",
    "X_transformed = {}\n",
    "for i in extracted_parts:\n",
    "    X_transformed[i], preprocessor = preprocess_data(X[i], fit=True)\n",
    "\n",
    "\n",
    "X_test_transformed = preprocess_data(X_test, preprocessor=preprocessor, fit=False)"
   ]
  },
  {
   "cell_type": "code",
   "execution_count": 7,
   "metadata": {
    "colab": {
     "base_uri": "https://localhost:8080/"
    },
    "id": "dHq-De_4-FEH",
    "outputId": "e91bb5ca-6384-4a3d-bbeb-53186b275a34"
   },
   "outputs": [
    {
     "name": "stdout",
     "output_type": "stream",
     "text": [
      "X_transformed shape for 032C: (2011, 11)\n",
      "X_transformed shape for 644A: (7579, 11)\n",
      "X_transformed shape for 980E: (20298, 11)\n",
      "X_transformed shape for CD59: (4578, 11)\n",
      "X_transformed shape for 645F: (589, 11)\n",
      "X_transformed shape for 66C5: (22024, 11)\n",
      "X_transformed shape for 22ED: (112, 11)\n",
      "X_transformed shape for 96D7: (45858, 11)\n",
      "X_transformed shape for 4BA5: (1628, 11)\n",
      "X_transformed shape for 8E53: (1523, 11)\n",
      "X_transformed shape for 051D: (846, 11)\n",
      "X_transformed shape for 6CEE: (11871, 11)\n"
     ]
    }
   ],
   "source": [
    "X_train = {}\n",
    "X_valid = {}\n",
    "y_train = {}\n",
    "y_valid = {}\n",
    "for i in extracted_parts:\n",
    "    print(f\"X_transformed shape for {i}: {X_transformed[i].shape}\")\n",
    "    X_train[i], X_valid[i], y_train[i], y_valid[i] = train_test_split(X_transformed[i], y[i], test_size=0.05, random_state=42)\n"
   ]
  },
  {
   "cell_type": "code",
   "execution_count": null,
   "metadata": {
    "colab": {
     "base_uri": "https://localhost:8080/"
    },
    "id": "c1zQShzC-FEH",
    "outputId": "10c07d24-3a72-4fbc-dc91-1c8a16c887fc"
   },
   "outputs": [
    {
     "name": "stdout",
     "output_type": "stream",
     "text": [
      "{'RandomForest_032C': RandomForestRegressor(random_state=42), 'RandomForest_644A': RandomForestRegressor(random_state=42), 'RandomForest_980E': RandomForestRegressor(random_state=42), 'RandomForest_CD59': RandomForestRegressor(random_state=42), 'RandomForest_645F': RandomForestRegressor(random_state=42), 'RandomForest_66C5': RandomForestRegressor(random_state=42), 'RandomForest_22ED': RandomForestRegressor(random_state=42), 'RandomForest_96D7': RandomForestRegressor(random_state=42), 'RandomForest_4BA5': RandomForestRegressor(random_state=42), 'RandomForest_8E53': RandomForestRegressor(random_state=42), 'RandomForest_051D': RandomForestRegressor(random_state=42), 'RandomForest_6CEE': RandomForestRegressor(random_state=42)}\n"
     ]
    }
   ],
   "source": [
    "# Let's train different models for different therapeutic areas\n",
    "models = {}\n",
    "for i in extracted_parts:\n",
    "    models[f'RandomForest_{i}'] =  RandomForestRegressor(n_estimators=100, random_state=42)\n",
    "\n",
    "print(models)\n",
    "results = {}\n",
    "for i in extracted_parts:\n",
    "    results[i] = 0\n",
    "for name, model in models.items():\n",
    "    model.fit(X_train[i], y_train[i])\n",
    "    scores = cross_val_score(model, X_train[i], y_train[i], scoring='neg_root_mean_squared_error', cv=5)\n",
    "    results[name.split('_')[1].split('.')[0]] = -scores.mean()"
   ]
  },
  {
   "cell_type": "code",
   "execution_count": 16,
   "metadata": {
    "colab": {
     "base_uri": "https://localhost:8080/"
    },
    "id": "jftJCksW-FEI",
    "outputId": "c6ec0ccd-f87e-414d-e830-da4b1caa00a8"
   },
   "outputs": [
    {
     "name": "stdout",
     "output_type": "stream",
     "text": [
      "{'032C': 0.24356115253075936, '644A': 0.24356115253075936, '980E': 0.24356115253075936, 'CD59': 0.24356115253075936, '645F': 0.24356115253075936, '66C5': 0.24356115253075936, '22ED': 0.24356115253075936, '96D7': 0.24356115253075936, '4BA5': 0.24356115253075936, '8E53': 0.24356115253075936, '051D': 0.24356115253075936, '6CEE': 0.24356115253075936}\n"
     ]
    }
   ],
   "source": [
    "print(results)"
   ]
  },
  {
   "cell_type": "code",
   "execution_count": 48,
   "metadata": {
    "colab": {
     "base_uri": "https://localhost:8080/"
    },
    "id": "2z_9DwfX-FEI",
    "outputId": "8b19bf55-fe95-4554-c9f8-6bf2a6c58f6d"
   },
   "outputs": [
    {
     "name": "stdout",
     "output_type": "stream",
     "text": [
      "[[ 1.01567531 -0.39652544  0.12659212 ...  1.10610031  1.7231267\n",
      "  -0.22723853]\n",
      " [ 1.01567531 -0.39652544  0.12659212 ...  1.10610031  1.7231267\n",
      "  -0.22723853]\n",
      " [-1.33456047 -1.10284558  0.32783526 ...  1.10610031  1.7231267\n",
      "   3.71078869]\n",
      " ...\n",
      " [-0.96082442 -0.34642948  0.85039814 ...  1.10610031  1.7231267\n",
      "  -0.22723853]\n",
      " [-0.96082442 -0.34642948  0.85039814 ...  1.10610031  1.7231267\n",
      "  -0.22723853]\n",
      " [-1.33321338 -1.06392118  0.19474396 ...  1.10610031  1.7231267\n",
      "  -0.22723853]]\n",
      "             0         1         2         3          4         5         6  \\\n",
      "0     1.015675 -0.396525  0.126592 -0.347339   0.485704  0.043409 -0.094785   \n",
      "1     1.015675 -0.396525  0.126592 -0.347339   2.578480 -1.452104 -0.088241   \n",
      "2    -1.334560 -1.102846  0.327835  1.660868   0.619854 -1.452104 -0.095205   \n",
      "3    -0.953909 -0.303391  0.823770 -0.313311  -0.523229 -1.452104 -0.079308   \n",
      "4    -1.333213 -1.063921  0.194744  0.439429  -0.601617 -1.452104 -0.031373   \n",
      "...        ...       ...       ...       ...        ...       ...       ...   \n",
      "1764  2.412678  0.671141  0.635619 -0.319739   0.220224  0.042013 -0.094279   \n",
      "1765  0.802303  0.481726  0.126592 -0.190276  -0.567626  0.222984 -0.075341   \n",
      "1766 -0.960824 -0.346429  0.850398 -0.104429  -0.387391  0.184699 -0.078330   \n",
      "1767 -0.960824 -0.346429  0.850398 -0.104429  15.100930  0.106239 -0.059421   \n",
      "1768 -1.333213 -1.063921  0.194744  0.439429  -0.601617 -1.452104 -0.065026   \n",
      "\n",
      "             7       8         9        10 therapeutic_area  \n",
      "0     0.418723  1.1061  1.723127 -0.227239             980E  \n",
      "1     0.418723  1.1061  1.723127 -0.227239             6CEE  \n",
      "2    -0.688628  1.1061  1.723127  3.710789             CD59  \n",
      "3     0.018139  1.1061  1.723127 -0.227239             6CEE  \n",
      "4    -1.795978  1.1061 -0.361165 -0.227239             96D7  \n",
      "...        ...     ...       ...       ...              ...  \n",
      "1764 -1.603395  1.1061  1.723127 -0.227239             980E  \n",
      "1765  0.182364  1.1061  1.723127 -0.227239             96D7  \n",
      "1766  0.068248  1.1061  1.723127 -0.227239             96D7  \n",
      "1767  0.068248  1.1061  1.723127 -0.227239             644A  \n",
      "1768 -1.795978  1.1061  1.723127 -0.227239             96D7  \n",
      "\n",
      "[1769 rows x 12 columns]\n",
      "032C\n",
      "{'RandomForest_032C': RandomForestRegressor(random_state=42), 'RandomForest_644A': RandomForestRegressor(random_state=42), 'RandomForest_980E': RandomForestRegressor(random_state=42), 'RandomForest_CD59': RandomForestRegressor(random_state=42), 'RandomForest_645F': RandomForestRegressor(random_state=42), 'RandomForest_66C5': RandomForestRegressor(random_state=42), 'RandomForest_22ED': RandomForestRegressor(random_state=42), 'RandomForest_96D7': RandomForestRegressor(random_state=42), 'RandomForest_4BA5': RandomForestRegressor(random_state=42), 'RandomForest_8E53': RandomForestRegressor(random_state=42), 'RandomForest_051D': RandomForestRegressor(random_state=42), 'RandomForest_6CEE': RandomForestRegressor(random_state=42)}\n",
      "644A\n",
      "{'RandomForest_032C': RandomForestRegressor(random_state=42), 'RandomForest_644A': RandomForestRegressor(random_state=42), 'RandomForest_980E': RandomForestRegressor(random_state=42), 'RandomForest_CD59': RandomForestRegressor(random_state=42), 'RandomForest_645F': RandomForestRegressor(random_state=42), 'RandomForest_66C5': RandomForestRegressor(random_state=42), 'RandomForest_22ED': RandomForestRegressor(random_state=42), 'RandomForest_96D7': RandomForestRegressor(random_state=42), 'RandomForest_4BA5': RandomForestRegressor(random_state=42), 'RandomForest_8E53': RandomForestRegressor(random_state=42), 'RandomForest_051D': RandomForestRegressor(random_state=42), 'RandomForest_6CEE': RandomForestRegressor(random_state=42)}\n",
      "980E\n",
      "{'RandomForest_032C': RandomForestRegressor(random_state=42), 'RandomForest_644A': RandomForestRegressor(random_state=42), 'RandomForest_980E': RandomForestRegressor(random_state=42), 'RandomForest_CD59': RandomForestRegressor(random_state=42), 'RandomForest_645F': RandomForestRegressor(random_state=42), 'RandomForest_66C5': RandomForestRegressor(random_state=42), 'RandomForest_22ED': RandomForestRegressor(random_state=42), 'RandomForest_96D7': RandomForestRegressor(random_state=42), 'RandomForest_4BA5': RandomForestRegressor(random_state=42), 'RandomForest_8E53': RandomForestRegressor(random_state=42), 'RandomForest_051D': RandomForestRegressor(random_state=42), 'RandomForest_6CEE': RandomForestRegressor(random_state=42)}\n",
      "CD59\n",
      "{'RandomForest_032C': RandomForestRegressor(random_state=42), 'RandomForest_644A': RandomForestRegressor(random_state=42), 'RandomForest_980E': RandomForestRegressor(random_state=42), 'RandomForest_CD59': RandomForestRegressor(random_state=42), 'RandomForest_645F': RandomForestRegressor(random_state=42), 'RandomForest_66C5': RandomForestRegressor(random_state=42), 'RandomForest_22ED': RandomForestRegressor(random_state=42), 'RandomForest_96D7': RandomForestRegressor(random_state=42), 'RandomForest_4BA5': RandomForestRegressor(random_state=42), 'RandomForest_8E53': RandomForestRegressor(random_state=42), 'RandomForest_051D': RandomForestRegressor(random_state=42), 'RandomForest_6CEE': RandomForestRegressor(random_state=42)}\n",
      "645F\n",
      "{'RandomForest_032C': RandomForestRegressor(random_state=42), 'RandomForest_644A': RandomForestRegressor(random_state=42), 'RandomForest_980E': RandomForestRegressor(random_state=42), 'RandomForest_CD59': RandomForestRegressor(random_state=42), 'RandomForest_645F': RandomForestRegressor(random_state=42), 'RandomForest_66C5': RandomForestRegressor(random_state=42), 'RandomForest_22ED': RandomForestRegressor(random_state=42), 'RandomForest_96D7': RandomForestRegressor(random_state=42), 'RandomForest_4BA5': RandomForestRegressor(random_state=42), 'RandomForest_8E53': RandomForestRegressor(random_state=42), 'RandomForest_051D': RandomForestRegressor(random_state=42), 'RandomForest_6CEE': RandomForestRegressor(random_state=42)}\n",
      "66C5\n",
      "{'RandomForest_032C': RandomForestRegressor(random_state=42), 'RandomForest_644A': RandomForestRegressor(random_state=42), 'RandomForest_980E': RandomForestRegressor(random_state=42), 'RandomForest_CD59': RandomForestRegressor(random_state=42), 'RandomForest_645F': RandomForestRegressor(random_state=42), 'RandomForest_66C5': RandomForestRegressor(random_state=42), 'RandomForest_22ED': RandomForestRegressor(random_state=42), 'RandomForest_96D7': RandomForestRegressor(random_state=42), 'RandomForest_4BA5': RandomForestRegressor(random_state=42), 'RandomForest_8E53': RandomForestRegressor(random_state=42), 'RandomForest_051D': RandomForestRegressor(random_state=42), 'RandomForest_6CEE': RandomForestRegressor(random_state=42)}\n",
      "22ED\n",
      "{'RandomForest_032C': RandomForestRegressor(random_state=42), 'RandomForest_644A': RandomForestRegressor(random_state=42), 'RandomForest_980E': RandomForestRegressor(random_state=42), 'RandomForest_CD59': RandomForestRegressor(random_state=42), 'RandomForest_645F': RandomForestRegressor(random_state=42), 'RandomForest_66C5': RandomForestRegressor(random_state=42), 'RandomForest_22ED': RandomForestRegressor(random_state=42), 'RandomForest_96D7': RandomForestRegressor(random_state=42), 'RandomForest_4BA5': RandomForestRegressor(random_state=42), 'RandomForest_8E53': RandomForestRegressor(random_state=42), 'RandomForest_051D': RandomForestRegressor(random_state=42), 'RandomForest_6CEE': RandomForestRegressor(random_state=42)}\n",
      "96D7\n",
      "{'RandomForest_032C': RandomForestRegressor(random_state=42), 'RandomForest_644A': RandomForestRegressor(random_state=42), 'RandomForest_980E': RandomForestRegressor(random_state=42), 'RandomForest_CD59': RandomForestRegressor(random_state=42), 'RandomForest_645F': RandomForestRegressor(random_state=42), 'RandomForest_66C5': RandomForestRegressor(random_state=42), 'RandomForest_22ED': RandomForestRegressor(random_state=42), 'RandomForest_96D7': RandomForestRegressor(random_state=42), 'RandomForest_4BA5': RandomForestRegressor(random_state=42), 'RandomForest_8E53': RandomForestRegressor(random_state=42), 'RandomForest_051D': RandomForestRegressor(random_state=42), 'RandomForest_6CEE': RandomForestRegressor(random_state=42)}\n",
      "4BA5\n",
      "{'RandomForest_032C': RandomForestRegressor(random_state=42), 'RandomForest_644A': RandomForestRegressor(random_state=42), 'RandomForest_980E': RandomForestRegressor(random_state=42), 'RandomForest_CD59': RandomForestRegressor(random_state=42), 'RandomForest_645F': RandomForestRegressor(random_state=42), 'RandomForest_66C5': RandomForestRegressor(random_state=42), 'RandomForest_22ED': RandomForestRegressor(random_state=42), 'RandomForest_96D7': RandomForestRegressor(random_state=42), 'RandomForest_4BA5': RandomForestRegressor(random_state=42), 'RandomForest_8E53': RandomForestRegressor(random_state=42), 'RandomForest_051D': RandomForestRegressor(random_state=42), 'RandomForest_6CEE': RandomForestRegressor(random_state=42)}\n",
      "8E53\n",
      "{'RandomForest_032C': RandomForestRegressor(random_state=42), 'RandomForest_644A': RandomForestRegressor(random_state=42), 'RandomForest_980E': RandomForestRegressor(random_state=42), 'RandomForest_CD59': RandomForestRegressor(random_state=42), 'RandomForest_645F': RandomForestRegressor(random_state=42), 'RandomForest_66C5': RandomForestRegressor(random_state=42), 'RandomForest_22ED': RandomForestRegressor(random_state=42), 'RandomForest_96D7': RandomForestRegressor(random_state=42), 'RandomForest_4BA5': RandomForestRegressor(random_state=42), 'RandomForest_8E53': RandomForestRegressor(random_state=42), 'RandomForest_051D': RandomForestRegressor(random_state=42), 'RandomForest_6CEE': RandomForestRegressor(random_state=42)}\n",
      "051D\n",
      "{'RandomForest_032C': RandomForestRegressor(random_state=42), 'RandomForest_644A': RandomForestRegressor(random_state=42), 'RandomForest_980E': RandomForestRegressor(random_state=42), 'RandomForest_CD59': RandomForestRegressor(random_state=42), 'RandomForest_645F': RandomForestRegressor(random_state=42), 'RandomForest_66C5': RandomForestRegressor(random_state=42), 'RandomForest_22ED': RandomForestRegressor(random_state=42), 'RandomForest_96D7': RandomForestRegressor(random_state=42), 'RandomForest_4BA5': RandomForestRegressor(random_state=42), 'RandomForest_8E53': RandomForestRegressor(random_state=42), 'RandomForest_051D': RandomForestRegressor(random_state=42), 'RandomForest_6CEE': RandomForestRegressor(random_state=42)}\n",
      "6CEE\n",
      "{'RandomForest_032C': RandomForestRegressor(random_state=42), 'RandomForest_644A': RandomForestRegressor(random_state=42), 'RandomForest_980E': RandomForestRegressor(random_state=42), 'RandomForest_CD59': RandomForestRegressor(random_state=42), 'RandomForest_645F': RandomForestRegressor(random_state=42), 'RandomForest_66C5': RandomForestRegressor(random_state=42), 'RandomForest_22ED': RandomForestRegressor(random_state=42), 'RandomForest_96D7': RandomForestRegressor(random_state=42), 'RandomForest_4BA5': RandomForestRegressor(random_state=42), 'RandomForest_8E53': RandomForestRegressor(random_state=42), 'RandomForest_051D': RandomForestRegressor(random_state=42), 'RandomForest_6CEE': RandomForestRegressor(random_state=42)}\n",
      "Result file saved as 'result.csv'\n"
     ]
    }
   ],
   "source": [
    "X_test_transformed = preprocess_data(X_test, preprocessor=preprocessor, fit=False)\n",
    "print(X_test_transformed[0])\n",
    "\n",
    "# Ensure indices align between test_data and X_test_transformed\n",
    "X_test_transformed = pd.DataFrame(X_test_transformed[0], index=test_data.index)  # Specify column names if necessary\n",
    "\n",
    "def extract_part(text):\n",
    "    return text.split('_')[2].split('.')[0]\n",
    "\n",
    "X_test_transformed['therapeutic_area'] = test_data['therapeutic_area'].apply(extract_part)\n",
    "print(X_test_transformed)\n",
    "\n",
    "# Initialize a DataFrame to store the results\n",
    "results_final = pd.DataFrame()\n",
    "\n",
    "# Iterate over each therapeutic area\n",
    "for area in models.keys():\n",
    "    keyy = area.split('_')[1]\n",
    "    print(keyy)\n",
    "    # Filter test data for the current therapeutic area\n",
    "    area_indices = X_test_transformed[X_test_transformed['therapeutic_area'] == keyy].index\n",
    "    X_area = X_test_transformed.loc[area_indices].drop('therapeutic_area', axis=1)\n",
    "\n",
    "    # Get the corresponding model\n",
    "    model = models[area]\n",
    "    print(models)\n",
    "\n",
    "    # Make predictions\n",
    "    if not X_area.empty:\n",
    "      predictions = model.predict(X_area)\n",
    "\n",
    "      # Prepare the result DataFrame\n",
    "      test_area = test_data.loc[area_indices]\n",
    "      area_results = pd.DataFrame({\n",
    "          'date': pd.to_datetime(test_area['date']).dt.strftime(\"%m/%d/%Y\"),\n",
    "          'cluster_nl': test_area['cluster_nl'],\n",
    "          'prediction': predictions\n",
    "      })\n",
    "\n",
    "      # Append to the results\n",
    "      results_final = pd.concat([results_final, area_results], ignore_index=True)\n",
    "\n",
    "results_final.to_csv('result.csv', index=False)\n",
    "print(\"Result file saved as 'result.csv'\")"
   ]
  }
 ],
 "metadata": {
  "colab": {
   "provenance": []
  },
  "kernelspec": {
   "display_name": "Python 3",
   "name": "python3"
  },
  "language_info": {
   "codemirror_mode": {
    "name": "ipython",
    "version": 3
   },
   "file_extension": ".py",
   "mimetype": "text/x-python",
   "name": "python",
   "nbconvert_exporter": "python",
   "pygments_lexer": "ipython3",
   "version": "3.11.0rc1"
  }
 },
 "nbformat": 4,
 "nbformat_minor": 0
}
